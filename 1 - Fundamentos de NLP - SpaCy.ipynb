{
  "nbformat": 4,
  "nbformat_minor": 0,
  "metadata": {
    "colab": {
      "provenance": []
    },
    "kernelspec": {
      "name": "python3",
      "display_name": "Python 3"
    },
    "language_info": {
      "name": "python"
    }
  },
  "cells": [
    {
      "cell_type": "markdown",
      "source": [
        "\n",
        "Instalação do SpaCy mais atualizado\n",
        "---\n",
        "\n"
      ],
      "metadata": {
        "id": "5HFSZEaNxxkE"
      }
    },
    {
      "cell_type": "code",
      "execution_count": null,
      "metadata": {
        "id": "24UAQwwlxnL6"
      },
      "outputs": [],
      "source": [
        "!pip install -U spacy"
      ]
    },
    {
      "cell_type": "markdown",
      "source": [
        "Baixar um modelo pré-treinado"
      ],
      "metadata": {
        "id": "BA0TVUQ4yB7j"
      }
    },
    {
      "cell_type": "code",
      "source": [
        "!python -m spacy download 'pt_core_news_lg'"
      ],
      "metadata": {
        "id": "-U4-fyn8x6SX"
      },
      "execution_count": null,
      "outputs": []
    },
    {
      "cell_type": "markdown",
      "source": [
        "Importaçao do spacy"
      ],
      "metadata": {
        "id": "zpk5zN6A2b1g"
      }
    },
    {
      "cell_type": "code",
      "source": [
        "import spacy"
      ],
      "metadata": {
        "id": "nNYogmsC2bfo"
      },
      "execution_count": null,
      "outputs": []
    },
    {
      "cell_type": "markdown",
      "source": [
        "Carregamento do modelo baixado"
      ],
      "metadata": {
        "id": "D4_F5WP6BzNQ"
      }
    },
    {
      "cell_type": "code",
      "source": [
        "nlp = spacy.load('pt_core_news_lg')"
      ],
      "metadata": {
        "id": "MW-f0mym2eEc"
      },
      "execution_count": null,
      "outputs": []
    },
    {
      "cell_type": "code",
      "source": [
        "print(nlp.pipe_names)"
      ],
      "metadata": {
        "colab": {
          "base_uri": "https://localhost:8080/"
        },
        "id": "sfojyiNeBtPJ",
        "outputId": "7b77bdda-49d2-41bc-b1b1-a5c9ae7d73b3"
      },
      "execution_count": null,
      "outputs": [
        {
          "output_type": "stream",
          "name": "stdout",
          "text": [
            "['tok2vec', 'morphologizer', 'parser', 'lemmatizer', 'attribute_ruler', 'ner']\n"
          ]
        }
      ]
    },
    {
      "cell_type": "markdown",
      "source": [
        "Criação de documento por texto"
      ],
      "metadata": {
        "id": "_Jwa5a_nDSBI"
      }
    },
    {
      "cell_type": "code",
      "source": [
        "documento = nlp('Os gols marcados por Neymar, jogador do Santos F.C., diminuiram muito, ao se comparar com seu auge em 2011.')"
      ],
      "metadata": {
        "id": "Ei0uUj0tDTuM"
      },
      "execution_count": null,
      "outputs": []
    },
    {
      "cell_type": "code",
      "source": [
        "len(documento.vocab) # tamanho do vocabulário"
      ],
      "metadata": {
        "colab": {
          "base_uri": "https://localhost:8080/"
        },
        "id": "Rcp-MzucDt0B",
        "outputId": "d205efcb-b703-41e8-eba1-6fd7d743fcca"
      },
      "execution_count": null,
      "outputs": [
        {
          "output_type": "execute_result",
          "data": {
            "text/plain": [
              "371"
            ]
          },
          "metadata": {},
          "execution_count": 13
        }
      ]
    },
    {
      "cell_type": "code",
      "source": [
        "print(type(documento))"
      ],
      "metadata": {
        "colab": {
          "base_uri": "https://localhost:8080/"
        },
        "id": "3PyE5dt8D2fj",
        "outputId": "12fae48b-c998-4de4-cdfb-f41eab528749"
      },
      "execution_count": null,
      "outputs": [
        {
          "output_type": "stream",
          "name": "stdout",
          "text": [
            "<class 'spacy.tokens.doc.Doc'>\n"
          ]
        }
      ]
    },
    {
      "cell_type": "markdown",
      "source": [
        "Verificação dos tokens"
      ],
      "metadata": {
        "id": "LQB_Z3S-FR0A"
      }
    },
    {
      "cell_type": "code",
      "source": [
        "for token in documento:\n",
        "  print(token.text)"
      ],
      "metadata": {
        "colab": {
          "base_uri": "https://localhost:8080/"
        },
        "id": "zpwPkMLFFQ1w",
        "outputId": "37eb47b9-ed93-4e67-ce37-588207982e68"
      },
      "execution_count": null,
      "outputs": [
        {
          "output_type": "stream",
          "name": "stdout",
          "text": [
            "Os\n",
            "gols\n",
            "marcados\n",
            "por\n",
            "Neymar\n",
            ",\n",
            "jogador\n",
            "do\n",
            "Santos\n",
            "F.C.\n",
            ",\n",
            "diminuiram\n",
            "muito\n",
            ",\n",
            "ao\n",
            "se\n",
            "comparar\n",
            "com\n",
            "seu\n",
            "auge\n",
            "em\n",
            "2011\n",
            ".\n"
          ]
        }
      ]
    },
    {
      "cell_type": "code",
      "source": [
        "print(documento[4])"
      ],
      "metadata": {
        "colab": {
          "base_uri": "https://localhost:8080/"
        },
        "id": "Df5UTc19Fhut",
        "outputId": "b759f038-3d89-4820-ae09-84d4d1fe29cc"
      },
      "execution_count": null,
      "outputs": [
        {
          "output_type": "stream",
          "name": "stdout",
          "text": [
            "Neymar\n"
          ]
        }
      ]
    },
    {
      "cell_type": "markdown",
      "source": [
        "Span"
      ],
      "metadata": {
        "id": "g3R-d-DWGHb2"
      }
    },
    {
      "cell_type": "code",
      "source": [
        "print(documento[3:6])"
      ],
      "metadata": {
        "colab": {
          "base_uri": "https://localhost:8080/"
        },
        "id": "KjDKWiwTGBDO",
        "outputId": "f6dfbaaa-5c1b-40f4-ad10-21cca2e62588"
      },
      "execution_count": null,
      "outputs": [
        {
          "output_type": "stream",
          "name": "stdout",
          "text": [
            "por Neymar,\n"
          ]
        }
      ]
    },
    {
      "cell_type": "code",
      "source": [
        "print(len(documento))"
      ],
      "metadata": {
        "colab": {
          "base_uri": "https://localhost:8080/"
        },
        "id": "wnMjRiD4GbHO",
        "outputId": "eb2992fd-1611-4298-d03d-6f05b986ce00"
      },
      "execution_count": null,
      "outputs": [
        {
          "output_type": "stream",
          "name": "stdout",
          "text": [
            "23\n"
          ]
        }
      ]
    },
    {
      "cell_type": "markdown",
      "source": [
        "Impressão dos atributos dos tokens"
      ],
      "metadata": {
        "id": "tYTj92EzGws1"
      }
    },
    {
      "cell_type": "code",
      "source": [
        "print('Tokens da frase:', [token.text for token in documento])\n",
        "print('É Stop word:', [token.is_stop for token in documento])\n",
        "print('É Alfanumérico:', [token.is_alpha for token in documento])\n",
        "print('É Maiúsculo:', [token.is_upper for token in documento])\n",
        "print('É Pontuação:', [token.is_punct for token in documento])\n",
        "print('É Número:', [token.like_num for token in documento])\n",
        "print('É Sentença inicial:', [token.is_sent_start for token in documento])"
      ],
      "metadata": {
        "colab": {
          "base_uri": "https://localhost:8080/"
        },
        "id": "WcW1tq54GzCN",
        "outputId": "d4ab5d7a-2f6c-4f91-ac07-7e42a6c3f699"
      },
      "execution_count": null,
      "outputs": [
        {
          "output_type": "stream",
          "name": "stdout",
          "text": [
            "Tokens da frase: ['Os', 'gols', 'marcados', 'por', 'Neymar', ',', 'jogador', 'do', 'Santos', 'F.C.', ',', 'diminuiram', 'muito', ',', 'ao', 'se', 'comparar', 'com', 'seu', 'auge', 'em', '2011', '.']\n",
            "É Stop word: [True, False, False, True, False, False, False, True, False, False, False, False, True, False, True, True, False, True, True, False, True, False, False]\n",
            "É Alfanumérico: [True, True, True, True, True, False, True, True, True, False, False, True, True, False, True, True, True, True, True, True, True, False, False]\n",
            "É Maiúsculo: [False, False, False, False, False, False, False, False, False, True, False, False, False, False, False, False, False, False, False, False, False, False, False]\n",
            "É Pontuação: [False, False, False, False, False, True, False, False, False, False, True, False, False, True, False, False, False, False, False, False, False, False, True]\n",
            "É Número: [False, False, False, False, False, False, False, False, False, False, False, False, False, False, False, False, False, False, False, False, False, True, False]\n",
            "É Sentença inicial: [True, False, False, False, False, False, False, False, False, False, False, False, False, False, False, False, False, False, False, False, False, False, False]\n"
          ]
        }
      ]
    },
    {
      "cell_type": "code",
      "source": [
        "print('Tokens da frase:', [token.text for token in documento])\n",
        "print('Formato:', [token.shape_ for token in documento])"
      ],
      "metadata": {
        "colab": {
          "base_uri": "https://localhost:8080/"
        },
        "id": "PAHCEnAUH_u2",
        "outputId": "a159e550-cc76-4b0b-a053-4a0500e79815"
      },
      "execution_count": null,
      "outputs": [
        {
          "output_type": "stream",
          "name": "stdout",
          "text": [
            "Tokens da frase: ['Os', 'gols', 'marcados', 'por', 'Neymar', ',', 'jogador', 'do', 'Santos', 'F.C.', ',', 'diminuiram', 'muito', ',', 'ao', 'se', 'comparar', 'com', 'seu', 'auge', 'em', '2011', '.']\n",
            "Formato: ['Xx', 'xxxx', 'xxxx', 'xxx', 'Xxxxx', ',', 'xxxx', 'xx', 'Xxxxx', 'X.X.', ',', 'xxxx', 'xxxx', ',', 'xx', 'xx', 'xxxx', 'xxx', 'xxx', 'xxxx', 'xx', 'dddd', '.']\n"
          ]
        }
      ]
    },
    {
      "cell_type": "markdown",
      "source": [
        "Impressão de POS, dependências, lemmas, morfologia, entre outros"
      ],
      "metadata": {
        "id": "aYF7xQYTJeNk"
      }
    },
    {
      "cell_type": "code",
      "source": [
        "for token in documento:\n",
        "  print(token.text, '-', token.pos_, '-', token.dep_, '-', token.lemma_, '-', token.shape_)"
      ],
      "metadata": {
        "colab": {
          "base_uri": "https://localhost:8080/"
        },
        "id": "yALY6muIJhry",
        "outputId": "5847b2e2-a572-4363-c964-2582dbaf3bcd"
      },
      "execution_count": null,
      "outputs": [
        {
          "output_type": "stream",
          "name": "stdout",
          "text": [
            "Os - DET - det - o - Xx\n",
            "gols - NOUN - nsubj - gol - xxxx\n",
            "marcados - VERB - acl - marcar - xxxx\n",
            "por - ADP - case - por - xxx\n",
            "Neymar - PROPN - obl:agent - Neymar - Xxxxx\n",
            ", - PUNCT - punct - , - ,\n",
            "jogador - NOUN - appos - jogador - xxxx\n",
            "do - ADP - case - de o - xx\n",
            "Santos - PROPN - nmod - Santos - Xxxxx\n",
            "F.C. - PROPN - flat:name - F.C. - X.X.\n",
            ", - PUNCT - punct - , - ,\n",
            "diminuiram - VERB - ROOT - diminuir - xxxx\n",
            "muito - ADV - advmod - muito - xxxx\n",
            ", - PUNCT - punct - , - ,\n",
            "ao - SCONJ - mark - a o - xx\n",
            "se - PRON - expl - se - xx\n",
            "comparar - VERB - advcl - comparar - xxxx\n",
            "com - ADP - case - com - xxx\n",
            "seu - DET - det - seu - xxx\n",
            "auge - NOUN - obl - auge - xxxx\n",
            "em - ADP - case - em - xx\n",
            "2011 - NUM - obl - 2011 - dddd\n",
            ". - PUNCT - punct - . - .\n"
          ]
        }
      ]
    },
    {
      "cell_type": "code",
      "source": [
        "for token in documento:\n",
        "  print(token.text, '-', token.morph)"
      ],
      "metadata": {
        "colab": {
          "base_uri": "https://localhost:8080/"
        },
        "id": "9c6ZxcOiJ16U",
        "outputId": "3426d5f2-c58b-4080-810b-45a740739fa3"
      },
      "execution_count": null,
      "outputs": [
        {
          "output_type": "stream",
          "name": "stdout",
          "text": [
            "Os - Definite=Def|Gender=Masc|Number=Plur|PronType=Art\n",
            "gols - Gender=Masc|Number=Plur\n",
            "marcados - Gender=Masc|Number=Plur|VerbForm=Part|Voice=Pass\n",
            "por - \n",
            "Neymar - Gender=Masc|Number=Sing\n",
            ", - \n",
            "jogador - Gender=Masc|Number=Sing\n",
            "do - Definite=Def|Gender=Masc|Number=Sing|PronType=Art\n",
            "Santos - Gender=Masc|Number=Sing\n",
            "F.C. - Number=Sing\n",
            ", - \n",
            "diminuiram - Mood=Ind|Number=Plur|Person=3|Tense=Past|VerbForm=Fin\n",
            "muito - \n",
            ", - \n",
            "ao - Definite=Def|Gender=Masc|Number=Sing|PronType=Art\n",
            "se - Case=Acc|Gender=Masc|Number=Sing|Person=3|PronType=Prs\n",
            "comparar - VerbForm=Inf\n",
            "com - \n",
            "seu - Gender=Masc|Number=Sing|PronType=Prs\n",
            "auge - Gender=Masc|Number=Sing\n",
            "em - \n",
            "2011 - NumType=Card\n",
            ". - \n"
          ]
        }
      ]
    },
    {
      "cell_type": "code",
      "source": [
        "for token in documento:\n",
        "  print(token.text, '-', token.tag_)"
      ],
      "metadata": {
        "colab": {
          "base_uri": "https://localhost:8080/"
        },
        "id": "Pg1rR6S2K3R8",
        "outputId": "1d6406fe-7b3a-4439-e971-7c1b6626690b"
      },
      "execution_count": null,
      "outputs": [
        {
          "output_type": "stream",
          "name": "stdout",
          "text": [
            "Os - DET\n",
            "gols - NOUN\n",
            "marcados - VERB\n",
            "por - ADP\n",
            "Neymar - PROPN\n",
            ", - PUNCT\n",
            "jogador - NOUN\n",
            "do - ADP\n",
            "Santos - PROPN\n",
            "F.C. - PROPN\n",
            ", - PUNCT\n",
            "diminuiram - VERB\n",
            "muito - ADV\n",
            ", - PUNCT\n",
            "ao - SCONJ\n",
            "se - PRON\n",
            "comparar - VERB\n",
            "com - ADP\n",
            "seu - DET\n",
            "auge - NOUN\n",
            "em - ADP\n",
            "2011 - NUM\n",
            ". - PUNCT\n"
          ]
        }
      ]
    },
    {
      "cell_type": "markdown",
      "source": [
        "Reconhecimento de Entidades Nomeadas"
      ],
      "metadata": {
        "id": "RbFr6KXLL26U"
      }
    },
    {
      "cell_type": "code",
      "source": [
        "for ent in documento.ents:\n",
        "  print(ent.text, '-', ent.label_)"
      ],
      "metadata": {
        "colab": {
          "base_uri": "https://localhost:8080/"
        },
        "id": "SbZYA9-tL5Th",
        "outputId": "9b70f521-0adf-4d56-e427-0e1dd01aa2dd"
      },
      "execution_count": null,
      "outputs": [
        {
          "output_type": "stream",
          "name": "stdout",
          "text": [
            "Neymar - PER\n",
            "Santos F.C. - ORG\n"
          ]
        }
      ]
    },
    {
      "cell_type": "markdown",
      "source": [
        "Stop words"
      ],
      "metadata": {
        "id": "Qwp105FnMzdM"
      }
    },
    {
      "cell_type": "code",
      "source": [
        "for token in documento:\n",
        "  if token.is_stop:\n",
        "    print('Stop word:', token.text)"
      ],
      "metadata": {
        "colab": {
          "base_uri": "https://localhost:8080/"
        },
        "id": "DGTEKV3EM1Hj",
        "outputId": "b84a00e1-474f-4385-b6ce-7d79ee0bddbb"
      },
      "execution_count": null,
      "outputs": [
        {
          "output_type": "stream",
          "name": "stdout",
          "text": [
            "Stop word: Os\n",
            "Stop word: por\n",
            "Stop word: do\n",
            "Stop word: muito\n",
            "Stop word: ao\n",
            "Stop word: se\n",
            "Stop word: com\n",
            "Stop word: seu\n",
            "Stop word: em\n"
          ]
        }
      ]
    },
    {
      "cell_type": "markdown",
      "source": [
        "Consultar stop words"
      ],
      "metadata": {
        "id": "FvhwkTNSNLm9"
      }
    },
    {
      "cell_type": "code",
      "source": [
        "for words in nlp.Defaults.stop_words:\n",
        "  print(words)"
      ],
      "metadata": {
        "id": "gsHrh31_M_If"
      },
      "execution_count": null,
      "outputs": []
    },
    {
      "cell_type": "markdown",
      "source": [
        "Adicionar stop word"
      ],
      "metadata": {
        "id": "TZQJqAuyNOzc"
      }
    },
    {
      "cell_type": "code",
      "source": [
        "nlp.Defaults.stop_words.add('eita')\n",
        "nlp.vocab['eita'].is_stop = True"
      ],
      "metadata": {
        "id": "2fiQFtylNQJu"
      },
      "execution_count": null,
      "outputs": []
    },
    {
      "cell_type": "code",
      "source": [
        "nlp.vocab['eita'].is_stop"
      ],
      "metadata": {
        "colab": {
          "base_uri": "https://localhost:8080/"
        },
        "id": "7UV2erCXNYxF",
        "outputId": "df03901e-e839-4041-d278-a3eb0bb2a102"
      },
      "execution_count": null,
      "outputs": [
        {
          "output_type": "execute_result",
          "data": {
            "text/plain": [
              "True"
            ]
          },
          "metadata": {},
          "execution_count": 34
        }
      ]
    },
    {
      "cell_type": "markdown",
      "source": [
        "Vocabulário"
      ],
      "metadata": {
        "id": "PfRltQUvPMTD"
      }
    },
    {
      "cell_type": "code",
      "source": [
        "print('Hash:', nlp.vocab.strings['dados'])\n",
        "print('Hash:', documento.vocab.strings['dados'])\n",
        "print('String:', nlp.vocab.strings[6013848609874238634])"
      ],
      "metadata": {
        "colab": {
          "base_uri": "https://localhost:8080/"
        },
        "id": "4BQOOL_fPNfG",
        "outputId": "24a1f1f4-05cb-4aa2-86c6-b5a31ef87547"
      },
      "execution_count": null,
      "outputs": [
        {
          "output_type": "stream",
          "name": "stdout",
          "text": [
            "Hash: 6013848609874238634\n",
            "Hash: 6013848609874238634\n",
            "String: dados\n"
          ]
        }
      ]
    },
    {
      "cell_type": "markdown",
      "source": [
        "Lexemas"
      ],
      "metadata": {
        "id": "A64VIit5PlU7"
      }
    },
    {
      "cell_type": "code",
      "source": [
        "lex = nlp.vocab['dados']\n",
        "print(lex.text, ' - ', lex.orth, ' - ', lex.is_alpha, ' - ', lex.is_lower)"
      ],
      "metadata": {
        "colab": {
          "base_uri": "https://localhost:8080/"
        },
        "id": "biVFyd5DPmWG",
        "outputId": "87409c8d-4710-4ebf-98ac-f0833e7f0ecd"
      },
      "execution_count": null,
      "outputs": [
        {
          "output_type": "stream",
          "name": "stdout",
          "text": [
            "dados  -  6013848609874238634  -  True  -  True\n"
          ]
        }
      ]
    },
    {
      "cell_type": "markdown",
      "source": [
        "Embedding"
      ],
      "metadata": {
        "id": "cOukVnhsQQyM"
      }
    },
    {
      "cell_type": "code",
      "source": [
        "print(nlp('dados').vector.shape)\n",
        "print(nlp('dados são um objeto de 6 faces').vector)"
      ],
      "metadata": {
        "id": "0RT-CFnyQKJS"
      },
      "execution_count": null,
      "outputs": []
    },
    {
      "cell_type": "markdown",
      "source": [
        "Busca de similaridade"
      ],
      "metadata": {
        "id": "iDLnsP_sR1My"
      }
    },
    {
      "cell_type": "code",
      "source": [
        "doc1 = nlp('ele gosta de jogar futebol de manhã')\n",
        "doc2 = nlp('ela gosta de jogar futebol de noite')\n",
        "print(doc1.similarity(doc2))\n",
        "print(doc2.similarity(doc1))"
      ],
      "metadata": {
        "colab": {
          "base_uri": "https://localhost:8080/"
        },
        "id": "nWSh3th9R2zB",
        "outputId": "2ddffd9b-7b2d-4eb5-9779-6a8385ecfeb7"
      },
      "execution_count": null,
      "outputs": [
        {
          "output_type": "stream",
          "name": "stdout",
          "text": [
            "0.962689995765686\n",
            "0.962689995765686\n"
          ]
        }
      ]
    },
    {
      "cell_type": "code",
      "source": [
        "doc3 = nlp('ele gosta de andar de bicicleta')\n",
        "tokenA = doc3[3]\n",
        "print(tokenA)\n",
        "tokenB = doc3[5]\n",
        "print(tokenB)\n",
        "print(tokenA.similarity(tokenB))"
      ],
      "metadata": {
        "colab": {
          "base_uri": "https://localhost:8080/"
        },
        "id": "Q8fR4uxuSVgK",
        "outputId": "c51cd18b-926f-4ebd-a8cd-21d4406c11c4"
      },
      "execution_count": null,
      "outputs": [
        {
          "output_type": "stream",
          "name": "stdout",
          "text": [
            "andar\n",
            "bicicleta\n",
            "0.3745684027671814\n"
          ]
        }
      ]
    },
    {
      "cell_type": "code",
      "source": [
        "doc4 = nlp('ele gosta de andar de bicicleta e de carro')\n",
        "partA = doc4[4:6]\n",
        "print(partA)\n",
        "partB = doc4[7:9]\n",
        "print(partB)\n",
        "print(partA.similarity(partB))"
      ],
      "metadata": {
        "colab": {
          "base_uri": "https://localhost:8080/"
        },
        "id": "dN6v1JPUSqZq",
        "outputId": "7fbe03a9-ff02-4606-fb32-b00a2396f7c9"
      },
      "execution_count": null,
      "outputs": [
        {
          "output_type": "stream",
          "name": "stdout",
          "text": [
            "de bicicleta\n",
            "de carro\n",
            "0.9142383337020874\n"
          ]
        }
      ]
    },
    {
      "cell_type": "markdown",
      "source": [
        "Matcher"
      ],
      "metadata": {
        "id": "X8tSvOegffXV"
      }
    },
    {
      "cell_type": "code",
      "source": [
        "from spacy.matcher import Matcher"
      ],
      "metadata": {
        "id": "98ykjEysfgZE"
      },
      "execution_count": null,
      "outputs": []
    },
    {
      "cell_type": "code",
      "source": [
        "doc5 = nlp('meu numero é (12) 999994321, mas voce pode ligar para (11) 40008001 para mais respostas')\n",
        "matcher = Matcher(nlp.vocab)\n",
        "padrao = [\n",
        "  {'ORTH': '('},\n",
        "  {'SHAPE': 'dd'},\n",
        "  {'ORTH': ')'},\n",
        "  {'ORTH': '-', 'OP': '?'},\n",
        "  {'IS_DIGIT': True}\n",
        "]\n",
        "matcher.add('Telefones', [padrao])\n",
        "matches = matcher(doc5)\n",
        "for id, inicio, fim in matches:\n",
        "  print(doc5[inicio:fim])"
      ],
      "metadata": {
        "colab": {
          "base_uri": "https://localhost:8080/"
        },
        "id": "u4tvpMTEibgI",
        "outputId": "7f669ec2-8c78-4cc9-90d2-2ecc1994084e"
      },
      "execution_count": null,
      "outputs": [
        {
          "output_type": "stream",
          "name": "stdout",
          "text": [
            "(12) 999994321\n",
            "(11) 40008001\n"
          ]
        }
      ]
    },
    {
      "cell_type": "markdown",
      "source": [
        "Displacying o documento"
      ],
      "metadata": {
        "id": "X3puGxOLl1d1"
      }
    },
    {
      "cell_type": "code",
      "source": [
        "from spacy import displacy\n",
        "displacy.render(documento, style='ent', jupyter=True)"
      ],
      "metadata": {
        "colab": {
          "base_uri": "https://localhost:8080/",
          "height": 52
        },
        "id": "MRlBB6HFjvJR",
        "outputId": "f77e252f-6490-4e09-8df1-3fde8a77e997"
      },
      "execution_count": null,
      "outputs": [
        {
          "output_type": "display_data",
          "data": {
            "text/plain": [
              "<IPython.core.display.HTML object>"
            ],
            "text/html": [
              "<span class=\"tex2jax_ignore\"><div class=\"entities\" style=\"line-height: 2.5; direction: ltr\">Os gols marcados por \n",
              "<mark class=\"entity\" style=\"background: #ddd; padding: 0.45em 0.6em; margin: 0 0.25em; line-height: 1; border-radius: 0.35em;\">\n",
              "    Neymar\n",
              "    <span style=\"font-size: 0.8em; font-weight: bold; line-height: 1; border-radius: 0.35em; vertical-align: middle; margin-left: 0.5rem\">PER</span>\n",
              "</mark>\n",
              ", jogador do \n",
              "<mark class=\"entity\" style=\"background: #7aecec; padding: 0.45em 0.6em; margin: 0 0.25em; line-height: 1; border-radius: 0.35em;\">\n",
              "    Santos F.C.\n",
              "    <span style=\"font-size: 0.8em; font-weight: bold; line-height: 1; border-radius: 0.35em; vertical-align: middle; margin-left: 0.5rem\">ORG</span>\n",
              "</mark>\n",
              ", diminuiram muito, ao se comparar com seu auge em 2011.</div></span>"
            ]
          },
          "metadata": {}
        }
      ]
    },
    {
      "cell_type": "code",
      "source": [
        "displacy.render(documento, style='dep', jupyter=True)"
      ],
      "metadata": {
        "id": "oakkNMusmKRk",
        "outputId": "29ce661c-25dc-4315-b527-f736bc6a3b88",
        "colab": {
          "base_uri": "https://localhost:8080/",
          "height": 528
        }
      },
      "execution_count": null,
      "outputs": [
        {
          "output_type": "display_data",
          "data": {
            "text/plain": [
              "<IPython.core.display.HTML object>"
            ],
            "text/html": [
              "<span class=\"tex2jax_ignore\"><svg xmlns=\"http://www.w3.org/2000/svg\" xmlns:xlink=\"http://www.w3.org/1999/xlink\" xml:lang=\"pt\" id=\"3a7b219879cb4e16b156a314289a0e39-0\" class=\"displacy\" width=\"3375\" height=\"487.0\" direction=\"ltr\" style=\"max-width: none; height: 487.0px; color: #000000; background: #ffffff; font-family: Arial; direction: ltr\">\n",
              "<text class=\"displacy-token\" fill=\"currentColor\" text-anchor=\"middle\" y=\"397.0\">\n",
              "    <tspan class=\"displacy-word\" fill=\"currentColor\" x=\"50\">Os</tspan>\n",
              "    <tspan class=\"displacy-tag\" dy=\"2em\" fill=\"currentColor\" x=\"50\">DET</tspan>\n",
              "</text>\n",
              "\n",
              "<text class=\"displacy-token\" fill=\"currentColor\" text-anchor=\"middle\" y=\"397.0\">\n",
              "    <tspan class=\"displacy-word\" fill=\"currentColor\" x=\"225\">gols</tspan>\n",
              "    <tspan class=\"displacy-tag\" dy=\"2em\" fill=\"currentColor\" x=\"225\">NOUN</tspan>\n",
              "</text>\n",
              "\n",
              "<text class=\"displacy-token\" fill=\"currentColor\" text-anchor=\"middle\" y=\"397.0\">\n",
              "    <tspan class=\"displacy-word\" fill=\"currentColor\" x=\"400\">marcados</tspan>\n",
              "    <tspan class=\"displacy-tag\" dy=\"2em\" fill=\"currentColor\" x=\"400\">VERB</tspan>\n",
              "</text>\n",
              "\n",
              "<text class=\"displacy-token\" fill=\"currentColor\" text-anchor=\"middle\" y=\"397.0\">\n",
              "    <tspan class=\"displacy-word\" fill=\"currentColor\" x=\"575\">por</tspan>\n",
              "    <tspan class=\"displacy-tag\" dy=\"2em\" fill=\"currentColor\" x=\"575\">ADP</tspan>\n",
              "</text>\n",
              "\n",
              "<text class=\"displacy-token\" fill=\"currentColor\" text-anchor=\"middle\" y=\"397.0\">\n",
              "    <tspan class=\"displacy-word\" fill=\"currentColor\" x=\"750\">Neymar,</tspan>\n",
              "    <tspan class=\"displacy-tag\" dy=\"2em\" fill=\"currentColor\" x=\"750\">PROPN</tspan>\n",
              "</text>\n",
              "\n",
              "<text class=\"displacy-token\" fill=\"currentColor\" text-anchor=\"middle\" y=\"397.0\">\n",
              "    <tspan class=\"displacy-word\" fill=\"currentColor\" x=\"925\">jogador</tspan>\n",
              "    <tspan class=\"displacy-tag\" dy=\"2em\" fill=\"currentColor\" x=\"925\">NOUN</tspan>\n",
              "</text>\n",
              "\n",
              "<text class=\"displacy-token\" fill=\"currentColor\" text-anchor=\"middle\" y=\"397.0\">\n",
              "    <tspan class=\"displacy-word\" fill=\"currentColor\" x=\"1100\">do</tspan>\n",
              "    <tspan class=\"displacy-tag\" dy=\"2em\" fill=\"currentColor\" x=\"1100\">ADP</tspan>\n",
              "</text>\n",
              "\n",
              "<text class=\"displacy-token\" fill=\"currentColor\" text-anchor=\"middle\" y=\"397.0\">\n",
              "    <tspan class=\"displacy-word\" fill=\"currentColor\" x=\"1275\">Santos</tspan>\n",
              "    <tspan class=\"displacy-tag\" dy=\"2em\" fill=\"currentColor\" x=\"1275\">PROPN</tspan>\n",
              "</text>\n",
              "\n",
              "<text class=\"displacy-token\" fill=\"currentColor\" text-anchor=\"middle\" y=\"397.0\">\n",
              "    <tspan class=\"displacy-word\" fill=\"currentColor\" x=\"1450\">F.C.,</tspan>\n",
              "    <tspan class=\"displacy-tag\" dy=\"2em\" fill=\"currentColor\" x=\"1450\">PROPN</tspan>\n",
              "</text>\n",
              "\n",
              "<text class=\"displacy-token\" fill=\"currentColor\" text-anchor=\"middle\" y=\"397.0\">\n",
              "    <tspan class=\"displacy-word\" fill=\"currentColor\" x=\"1625\">diminuiram</tspan>\n",
              "    <tspan class=\"displacy-tag\" dy=\"2em\" fill=\"currentColor\" x=\"1625\">VERB</tspan>\n",
              "</text>\n",
              "\n",
              "<text class=\"displacy-token\" fill=\"currentColor\" text-anchor=\"middle\" y=\"397.0\">\n",
              "    <tspan class=\"displacy-word\" fill=\"currentColor\" x=\"1800\">muito,</tspan>\n",
              "    <tspan class=\"displacy-tag\" dy=\"2em\" fill=\"currentColor\" x=\"1800\">ADV</tspan>\n",
              "</text>\n",
              "\n",
              "<text class=\"displacy-token\" fill=\"currentColor\" text-anchor=\"middle\" y=\"397.0\">\n",
              "    <tspan class=\"displacy-word\" fill=\"currentColor\" x=\"1975\">ao</tspan>\n",
              "    <tspan class=\"displacy-tag\" dy=\"2em\" fill=\"currentColor\" x=\"1975\">SCONJ</tspan>\n",
              "</text>\n",
              "\n",
              "<text class=\"displacy-token\" fill=\"currentColor\" text-anchor=\"middle\" y=\"397.0\">\n",
              "    <tspan class=\"displacy-word\" fill=\"currentColor\" x=\"2150\">se</tspan>\n",
              "    <tspan class=\"displacy-tag\" dy=\"2em\" fill=\"currentColor\" x=\"2150\">PRON</tspan>\n",
              "</text>\n",
              "\n",
              "<text class=\"displacy-token\" fill=\"currentColor\" text-anchor=\"middle\" y=\"397.0\">\n",
              "    <tspan class=\"displacy-word\" fill=\"currentColor\" x=\"2325\">comparar</tspan>\n",
              "    <tspan class=\"displacy-tag\" dy=\"2em\" fill=\"currentColor\" x=\"2325\">VERB</tspan>\n",
              "</text>\n",
              "\n",
              "<text class=\"displacy-token\" fill=\"currentColor\" text-anchor=\"middle\" y=\"397.0\">\n",
              "    <tspan class=\"displacy-word\" fill=\"currentColor\" x=\"2500\">com</tspan>\n",
              "    <tspan class=\"displacy-tag\" dy=\"2em\" fill=\"currentColor\" x=\"2500\">ADP</tspan>\n",
              "</text>\n",
              "\n",
              "<text class=\"displacy-token\" fill=\"currentColor\" text-anchor=\"middle\" y=\"397.0\">\n",
              "    <tspan class=\"displacy-word\" fill=\"currentColor\" x=\"2675\">seu</tspan>\n",
              "    <tspan class=\"displacy-tag\" dy=\"2em\" fill=\"currentColor\" x=\"2675\">DET</tspan>\n",
              "</text>\n",
              "\n",
              "<text class=\"displacy-token\" fill=\"currentColor\" text-anchor=\"middle\" y=\"397.0\">\n",
              "    <tspan class=\"displacy-word\" fill=\"currentColor\" x=\"2850\">auge</tspan>\n",
              "    <tspan class=\"displacy-tag\" dy=\"2em\" fill=\"currentColor\" x=\"2850\">NOUN</tspan>\n",
              "</text>\n",
              "\n",
              "<text class=\"displacy-token\" fill=\"currentColor\" text-anchor=\"middle\" y=\"397.0\">\n",
              "    <tspan class=\"displacy-word\" fill=\"currentColor\" x=\"3025\">em</tspan>\n",
              "    <tspan class=\"displacy-tag\" dy=\"2em\" fill=\"currentColor\" x=\"3025\">ADP</tspan>\n",
              "</text>\n",
              "\n",
              "<text class=\"displacy-token\" fill=\"currentColor\" text-anchor=\"middle\" y=\"397.0\">\n",
              "    <tspan class=\"displacy-word\" fill=\"currentColor\" x=\"3200\">2011.</tspan>\n",
              "    <tspan class=\"displacy-tag\" dy=\"2em\" fill=\"currentColor\" x=\"3200\">NUM</tspan>\n",
              "</text>\n",
              "\n",
              "<g class=\"displacy-arrow\">\n",
              "    <path class=\"displacy-arc\" id=\"arrow-3a7b219879cb4e16b156a314289a0e39-0-0\" stroke-width=\"2px\" d=\"M70,352.0 C70,264.5 210.0,264.5 210.0,352.0\" fill=\"none\" stroke=\"currentColor\"/>\n",
              "    <text dy=\"1.25em\" style=\"font-size: 0.8em; letter-spacing: 1px\">\n",
              "        <textPath xlink:href=\"#arrow-3a7b219879cb4e16b156a314289a0e39-0-0\" class=\"displacy-label\" startOffset=\"50%\" side=\"left\" fill=\"currentColor\" text-anchor=\"middle\">det</textPath>\n",
              "    </text>\n",
              "    <path class=\"displacy-arrowhead\" d=\"M70,354.0 L62,342.0 78,342.0\" fill=\"currentColor\"/>\n",
              "</g>\n",
              "\n",
              "<g class=\"displacy-arrow\">\n",
              "    <path class=\"displacy-arc\" id=\"arrow-3a7b219879cb4e16b156a314289a0e39-0-1\" stroke-width=\"2px\" d=\"M245,352.0 C245,89.5 1620.0,89.5 1620.0,352.0\" fill=\"none\" stroke=\"currentColor\"/>\n",
              "    <text dy=\"1.25em\" style=\"font-size: 0.8em; letter-spacing: 1px\">\n",
              "        <textPath xlink:href=\"#arrow-3a7b219879cb4e16b156a314289a0e39-0-1\" class=\"displacy-label\" startOffset=\"50%\" side=\"left\" fill=\"currentColor\" text-anchor=\"middle\">nsubj</textPath>\n",
              "    </text>\n",
              "    <path class=\"displacy-arrowhead\" d=\"M245,354.0 L237,342.0 253,342.0\" fill=\"currentColor\"/>\n",
              "</g>\n",
              "\n",
              "<g class=\"displacy-arrow\">\n",
              "    <path class=\"displacy-arc\" id=\"arrow-3a7b219879cb4e16b156a314289a0e39-0-2\" stroke-width=\"2px\" d=\"M245,352.0 C245,264.5 385.0,264.5 385.0,352.0\" fill=\"none\" stroke=\"currentColor\"/>\n",
              "    <text dy=\"1.25em\" style=\"font-size: 0.8em; letter-spacing: 1px\">\n",
              "        <textPath xlink:href=\"#arrow-3a7b219879cb4e16b156a314289a0e39-0-2\" class=\"displacy-label\" startOffset=\"50%\" side=\"left\" fill=\"currentColor\" text-anchor=\"middle\">acl</textPath>\n",
              "    </text>\n",
              "    <path class=\"displacy-arrowhead\" d=\"M385.0,354.0 L393.0,342.0 377.0,342.0\" fill=\"currentColor\"/>\n",
              "</g>\n",
              "\n",
              "<g class=\"displacy-arrow\">\n",
              "    <path class=\"displacy-arc\" id=\"arrow-3a7b219879cb4e16b156a314289a0e39-0-3\" stroke-width=\"2px\" d=\"M595,352.0 C595,264.5 735.0,264.5 735.0,352.0\" fill=\"none\" stroke=\"currentColor\"/>\n",
              "    <text dy=\"1.25em\" style=\"font-size: 0.8em; letter-spacing: 1px\">\n",
              "        <textPath xlink:href=\"#arrow-3a7b219879cb4e16b156a314289a0e39-0-3\" class=\"displacy-label\" startOffset=\"50%\" side=\"left\" fill=\"currentColor\" text-anchor=\"middle\">case</textPath>\n",
              "    </text>\n",
              "    <path class=\"displacy-arrowhead\" d=\"M595,354.0 L587,342.0 603,342.0\" fill=\"currentColor\"/>\n",
              "</g>\n",
              "\n",
              "<g class=\"displacy-arrow\">\n",
              "    <path class=\"displacy-arc\" id=\"arrow-3a7b219879cb4e16b156a314289a0e39-0-4\" stroke-width=\"2px\" d=\"M420,352.0 C420,177.0 740.0,177.0 740.0,352.0\" fill=\"none\" stroke=\"currentColor\"/>\n",
              "    <text dy=\"1.25em\" style=\"font-size: 0.8em; letter-spacing: 1px\">\n",
              "        <textPath xlink:href=\"#arrow-3a7b219879cb4e16b156a314289a0e39-0-4\" class=\"displacy-label\" startOffset=\"50%\" side=\"left\" fill=\"currentColor\" text-anchor=\"middle\">obl:agent</textPath>\n",
              "    </text>\n",
              "    <path class=\"displacy-arrowhead\" d=\"M740.0,354.0 L748.0,342.0 732.0,342.0\" fill=\"currentColor\"/>\n",
              "</g>\n",
              "\n",
              "<g class=\"displacy-arrow\">\n",
              "    <path class=\"displacy-arc\" id=\"arrow-3a7b219879cb4e16b156a314289a0e39-0-5\" stroke-width=\"2px\" d=\"M770,352.0 C770,264.5 910.0,264.5 910.0,352.0\" fill=\"none\" stroke=\"currentColor\"/>\n",
              "    <text dy=\"1.25em\" style=\"font-size: 0.8em; letter-spacing: 1px\">\n",
              "        <textPath xlink:href=\"#arrow-3a7b219879cb4e16b156a314289a0e39-0-5\" class=\"displacy-label\" startOffset=\"50%\" side=\"left\" fill=\"currentColor\" text-anchor=\"middle\">appos</textPath>\n",
              "    </text>\n",
              "    <path class=\"displacy-arrowhead\" d=\"M910.0,354.0 L918.0,342.0 902.0,342.0\" fill=\"currentColor\"/>\n",
              "</g>\n",
              "\n",
              "<g class=\"displacy-arrow\">\n",
              "    <path class=\"displacy-arc\" id=\"arrow-3a7b219879cb4e16b156a314289a0e39-0-6\" stroke-width=\"2px\" d=\"M1120,352.0 C1120,264.5 1260.0,264.5 1260.0,352.0\" fill=\"none\" stroke=\"currentColor\"/>\n",
              "    <text dy=\"1.25em\" style=\"font-size: 0.8em; letter-spacing: 1px\">\n",
              "        <textPath xlink:href=\"#arrow-3a7b219879cb4e16b156a314289a0e39-0-6\" class=\"displacy-label\" startOffset=\"50%\" side=\"left\" fill=\"currentColor\" text-anchor=\"middle\">case</textPath>\n",
              "    </text>\n",
              "    <path class=\"displacy-arrowhead\" d=\"M1120,354.0 L1112,342.0 1128,342.0\" fill=\"currentColor\"/>\n",
              "</g>\n",
              "\n",
              "<g class=\"displacy-arrow\">\n",
              "    <path class=\"displacy-arc\" id=\"arrow-3a7b219879cb4e16b156a314289a0e39-0-7\" stroke-width=\"2px\" d=\"M945,352.0 C945,177.0 1265.0,177.0 1265.0,352.0\" fill=\"none\" stroke=\"currentColor\"/>\n",
              "    <text dy=\"1.25em\" style=\"font-size: 0.8em; letter-spacing: 1px\">\n",
              "        <textPath xlink:href=\"#arrow-3a7b219879cb4e16b156a314289a0e39-0-7\" class=\"displacy-label\" startOffset=\"50%\" side=\"left\" fill=\"currentColor\" text-anchor=\"middle\">nmod</textPath>\n",
              "    </text>\n",
              "    <path class=\"displacy-arrowhead\" d=\"M1265.0,354.0 L1273.0,342.0 1257.0,342.0\" fill=\"currentColor\"/>\n",
              "</g>\n",
              "\n",
              "<g class=\"displacy-arrow\">\n",
              "    <path class=\"displacy-arc\" id=\"arrow-3a7b219879cb4e16b156a314289a0e39-0-8\" stroke-width=\"2px\" d=\"M1295,352.0 C1295,264.5 1435.0,264.5 1435.0,352.0\" fill=\"none\" stroke=\"currentColor\"/>\n",
              "    <text dy=\"1.25em\" style=\"font-size: 0.8em; letter-spacing: 1px\">\n",
              "        <textPath xlink:href=\"#arrow-3a7b219879cb4e16b156a314289a0e39-0-8\" class=\"displacy-label\" startOffset=\"50%\" side=\"left\" fill=\"currentColor\" text-anchor=\"middle\">flat:name</textPath>\n",
              "    </text>\n",
              "    <path class=\"displacy-arrowhead\" d=\"M1435.0,354.0 L1443.0,342.0 1427.0,342.0\" fill=\"currentColor\"/>\n",
              "</g>\n",
              "\n",
              "<g class=\"displacy-arrow\">\n",
              "    <path class=\"displacy-arc\" id=\"arrow-3a7b219879cb4e16b156a314289a0e39-0-9\" stroke-width=\"2px\" d=\"M1645,352.0 C1645,264.5 1785.0,264.5 1785.0,352.0\" fill=\"none\" stroke=\"currentColor\"/>\n",
              "    <text dy=\"1.25em\" style=\"font-size: 0.8em; letter-spacing: 1px\">\n",
              "        <textPath xlink:href=\"#arrow-3a7b219879cb4e16b156a314289a0e39-0-9\" class=\"displacy-label\" startOffset=\"50%\" side=\"left\" fill=\"currentColor\" text-anchor=\"middle\">advmod</textPath>\n",
              "    </text>\n",
              "    <path class=\"displacy-arrowhead\" d=\"M1785.0,354.0 L1793.0,342.0 1777.0,342.0\" fill=\"currentColor\"/>\n",
              "</g>\n",
              "\n",
              "<g class=\"displacy-arrow\">\n",
              "    <path class=\"displacy-arc\" id=\"arrow-3a7b219879cb4e16b156a314289a0e39-0-10\" stroke-width=\"2px\" d=\"M1995,352.0 C1995,177.0 2315.0,177.0 2315.0,352.0\" fill=\"none\" stroke=\"currentColor\"/>\n",
              "    <text dy=\"1.25em\" style=\"font-size: 0.8em; letter-spacing: 1px\">\n",
              "        <textPath xlink:href=\"#arrow-3a7b219879cb4e16b156a314289a0e39-0-10\" class=\"displacy-label\" startOffset=\"50%\" side=\"left\" fill=\"currentColor\" text-anchor=\"middle\">mark</textPath>\n",
              "    </text>\n",
              "    <path class=\"displacy-arrowhead\" d=\"M1995,354.0 L1987,342.0 2003,342.0\" fill=\"currentColor\"/>\n",
              "</g>\n",
              "\n",
              "<g class=\"displacy-arrow\">\n",
              "    <path class=\"displacy-arc\" id=\"arrow-3a7b219879cb4e16b156a314289a0e39-0-11\" stroke-width=\"2px\" d=\"M2170,352.0 C2170,264.5 2310.0,264.5 2310.0,352.0\" fill=\"none\" stroke=\"currentColor\"/>\n",
              "    <text dy=\"1.25em\" style=\"font-size: 0.8em; letter-spacing: 1px\">\n",
              "        <textPath xlink:href=\"#arrow-3a7b219879cb4e16b156a314289a0e39-0-11\" class=\"displacy-label\" startOffset=\"50%\" side=\"left\" fill=\"currentColor\" text-anchor=\"middle\">expl</textPath>\n",
              "    </text>\n",
              "    <path class=\"displacy-arrowhead\" d=\"M2170,354.0 L2162,342.0 2178,342.0\" fill=\"currentColor\"/>\n",
              "</g>\n",
              "\n",
              "<g class=\"displacy-arrow\">\n",
              "    <path class=\"displacy-arc\" id=\"arrow-3a7b219879cb4e16b156a314289a0e39-0-12\" stroke-width=\"2px\" d=\"M1645,352.0 C1645,89.5 2320.0,89.5 2320.0,352.0\" fill=\"none\" stroke=\"currentColor\"/>\n",
              "    <text dy=\"1.25em\" style=\"font-size: 0.8em; letter-spacing: 1px\">\n",
              "        <textPath xlink:href=\"#arrow-3a7b219879cb4e16b156a314289a0e39-0-12\" class=\"displacy-label\" startOffset=\"50%\" side=\"left\" fill=\"currentColor\" text-anchor=\"middle\">advcl</textPath>\n",
              "    </text>\n",
              "    <path class=\"displacy-arrowhead\" d=\"M2320.0,354.0 L2328.0,342.0 2312.0,342.0\" fill=\"currentColor\"/>\n",
              "</g>\n",
              "\n",
              "<g class=\"displacy-arrow\">\n",
              "    <path class=\"displacy-arc\" id=\"arrow-3a7b219879cb4e16b156a314289a0e39-0-13\" stroke-width=\"2px\" d=\"M2520,352.0 C2520,177.0 2840.0,177.0 2840.0,352.0\" fill=\"none\" stroke=\"currentColor\"/>\n",
              "    <text dy=\"1.25em\" style=\"font-size: 0.8em; letter-spacing: 1px\">\n",
              "        <textPath xlink:href=\"#arrow-3a7b219879cb4e16b156a314289a0e39-0-13\" class=\"displacy-label\" startOffset=\"50%\" side=\"left\" fill=\"currentColor\" text-anchor=\"middle\">case</textPath>\n",
              "    </text>\n",
              "    <path class=\"displacy-arrowhead\" d=\"M2520,354.0 L2512,342.0 2528,342.0\" fill=\"currentColor\"/>\n",
              "</g>\n",
              "\n",
              "<g class=\"displacy-arrow\">\n",
              "    <path class=\"displacy-arc\" id=\"arrow-3a7b219879cb4e16b156a314289a0e39-0-14\" stroke-width=\"2px\" d=\"M2695,352.0 C2695,264.5 2835.0,264.5 2835.0,352.0\" fill=\"none\" stroke=\"currentColor\"/>\n",
              "    <text dy=\"1.25em\" style=\"font-size: 0.8em; letter-spacing: 1px\">\n",
              "        <textPath xlink:href=\"#arrow-3a7b219879cb4e16b156a314289a0e39-0-14\" class=\"displacy-label\" startOffset=\"50%\" side=\"left\" fill=\"currentColor\" text-anchor=\"middle\">det</textPath>\n",
              "    </text>\n",
              "    <path class=\"displacy-arrowhead\" d=\"M2695,354.0 L2687,342.0 2703,342.0\" fill=\"currentColor\"/>\n",
              "</g>\n",
              "\n",
              "<g class=\"displacy-arrow\">\n",
              "    <path class=\"displacy-arc\" id=\"arrow-3a7b219879cb4e16b156a314289a0e39-0-15\" stroke-width=\"2px\" d=\"M2345,352.0 C2345,89.5 2845.0,89.5 2845.0,352.0\" fill=\"none\" stroke=\"currentColor\"/>\n",
              "    <text dy=\"1.25em\" style=\"font-size: 0.8em; letter-spacing: 1px\">\n",
              "        <textPath xlink:href=\"#arrow-3a7b219879cb4e16b156a314289a0e39-0-15\" class=\"displacy-label\" startOffset=\"50%\" side=\"left\" fill=\"currentColor\" text-anchor=\"middle\">obl</textPath>\n",
              "    </text>\n",
              "    <path class=\"displacy-arrowhead\" d=\"M2845.0,354.0 L2853.0,342.0 2837.0,342.0\" fill=\"currentColor\"/>\n",
              "</g>\n",
              "\n",
              "<g class=\"displacy-arrow\">\n",
              "    <path class=\"displacy-arc\" id=\"arrow-3a7b219879cb4e16b156a314289a0e39-0-16\" stroke-width=\"2px\" d=\"M3045,352.0 C3045,264.5 3185.0,264.5 3185.0,352.0\" fill=\"none\" stroke=\"currentColor\"/>\n",
              "    <text dy=\"1.25em\" style=\"font-size: 0.8em; letter-spacing: 1px\">\n",
              "        <textPath xlink:href=\"#arrow-3a7b219879cb4e16b156a314289a0e39-0-16\" class=\"displacy-label\" startOffset=\"50%\" side=\"left\" fill=\"currentColor\" text-anchor=\"middle\">case</textPath>\n",
              "    </text>\n",
              "    <path class=\"displacy-arrowhead\" d=\"M3045,354.0 L3037,342.0 3053,342.0\" fill=\"currentColor\"/>\n",
              "</g>\n",
              "\n",
              "<g class=\"displacy-arrow\">\n",
              "    <path class=\"displacy-arc\" id=\"arrow-3a7b219879cb4e16b156a314289a0e39-0-17\" stroke-width=\"2px\" d=\"M2345,352.0 C2345,2.0 3200.0,2.0 3200.0,352.0\" fill=\"none\" stroke=\"currentColor\"/>\n",
              "    <text dy=\"1.25em\" style=\"font-size: 0.8em; letter-spacing: 1px\">\n",
              "        <textPath xlink:href=\"#arrow-3a7b219879cb4e16b156a314289a0e39-0-17\" class=\"displacy-label\" startOffset=\"50%\" side=\"left\" fill=\"currentColor\" text-anchor=\"middle\">obl</textPath>\n",
              "    </text>\n",
              "    <path class=\"displacy-arrowhead\" d=\"M3200.0,354.0 L3208.0,342.0 3192.0,342.0\" fill=\"currentColor\"/>\n",
              "</g>\n",
              "</svg></span>"
            ]
          },
          "metadata": {}
        }
      ]
    }
  ]
}