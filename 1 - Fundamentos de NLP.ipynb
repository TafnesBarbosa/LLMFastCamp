{
 "cells": [
  {
   "cell_type": "code",
   "execution_count": null,
   "id": "ee3f28c7-9ec7-4482-9514-ef50fbb5254d",
   "metadata": {},
   "outputs": [],
   "source": []
  }
 ],
 "metadata": {
  "kernelspec": {
   "display_name": "",
   "name": ""
  },
  "language_info": {
   "name": ""
  }
 },
 "nbformat": 4,
 "nbformat_minor": 5
}
